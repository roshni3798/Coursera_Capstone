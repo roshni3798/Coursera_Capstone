{
 "cells": [
  {
   "cell_type": "markdown",
   "metadata": {},
   "source": [
    "# Week 4 - Part 1\n",
    "# The Battle of Neighborhoods"
   ]
  },
  {
   "cell_type": "markdown",
   "metadata": {},
   "source": [
    "## Description of the problem\n",
    "A description of the problem and a discussion of the background."
   ]
  },
  {
   "cell_type": "markdown",
   "metadata": {},
   "source": [
    "* The Housing & Development Board (HDB) is Singapore's public housing authority and a statutory board under the Ministry of National Development. They develop public housing to provide Singaporeans with affordable, quality homes, and a better living environment. Focusing on nurturing a strong family and community spirit, public housing policies and schemes are formulated to meet changing needs and aspirations. Foreigners who gained Permanent Residency are allowed to purchase HDB housing through resale. In this project, we are targeting to develop a machine learning model to predit the resale price of HDB housing."
   ]
  },
  {
   "cell_type": "markdown",
   "metadata": {},
   "source": [
    "## Audience\n",
    "* The project is designed for Singaporean/Permanent Resiedents(PR) to predict the resale price of their prospect HDB housing. The result serve as guidance for pricing."
   ]
  },
  {
   "cell_type": "markdown",
   "metadata": {},
   "source": [
    "## Methodology\n",
    "* this is a regression model with features of HDB housing by type,age, commercial, facilities and location data, with target as resale price"
   ]
  },
  {
   "cell_type": "markdown",
   "metadata": {},
   "source": [
    "# Week 4 - Part 2\n",
    "# Data"
   ]
  },
  {
   "cell_type": "markdown",
   "metadata": {},
   "source": [
    "## Sources\n",
    "1. Government Data API: data.gov.sg\n",
    "    * HDB property info: https://data.gov.sg/dataset/hdb-property-information\n",
    "    * HDB median rental by town by flat type: https://data.gov.sg/dataset/median-rent-by-town-and-flat-type\n",
    "    * Median Resale price by town by flat type: https://data.gov.sg/dataset/median-resale-prices-for-registered-applications-by-town-and-flat-type\n",
    "        \n",
    "2. Singapore official geocoding data through OneMap API: http://developers.onemap.sg/commonapi/\n",
    "\n",
    "\n",
    "Note: Foursquare API is slower and less reliable than official OneMap API, which also gives geocoding and relevant info for Singapore locations. Hence in this project, we will replace Foursquare API with OneMap API\n",
    " "
   ]
  },
  {
   "cell_type": "markdown",
   "metadata": {},
   "source": [
    "## Schema\n",
    "\n",
    "     Name: 'blk_no'\n",
    "        Title: 'Block number'\n",
    "        Type: 'text'\n",
    "        Sub Type: 'general'\n",
    "      -\n",
    "        Name: 'street'\n",
    "        Title: 'Street'\n",
    "        Type: 'text'\n",
    "        Sub Type: 'general'\n",
    "      -\n",
    "        Name: 'max_floor_lvl'\n",
    "        Title: 'Maximum floor level'\n",
    "        Type: 'numeric'\n",
    "        Sub Type: 'general'\n",
    "        Unit Of Measure: 'No. of storeys'\n",
    "      -\n",
    "        Name: 'year_completed'\n",
    "        Title: 'Year completed'\n",
    "        Type: 'datetime'\n",
    "        Sub Type: 'year'\n",
    "        Format: 'YYYY'\n",
    "      -\n",
    "        Name: 'residential'\n",
    "        Title: 'Residential property tag'\n",
    "        Type: 'text'\n",
    "        Sub Type: 'general'\n",
    "      -\n",
    "        Name: 'commercial'\n",
    "        Title: 'Commercial property tag'\n",
    "        Type: 'text'\n",
    "        Sub Type: 'general'\n",
    "      -\n",
    "        Name: 'market_hawker'\n",
    "        Title: 'Market and hawker tag'\n",
    "        Type: 'text'\n",
    "        Sub Type: 'general'\n",
    "      -\n",
    "        Name: 'miscellaneous'\n",
    "        Title: 'Miscellaneous'\n",
    "        Type: 'text'\n",
    "        Sub Type: 'general'\n",
    "        Description: 'Examples include admin office, childcare centre, education centre,\n",
    "          Residents'' Committees centre'\n",
    "      -\n",
    "        Name: 'multistorey_carpark'\n",
    "        Title: 'Multi-storey carpark tag'\n",
    "        Type: 'text'\n",
    "        Sub Type: 'general'\n",
    "      -\n",
    "        Name: 'precinct_pavilion'\n",
    "        Title: 'Precinct pavilion tag'\n",
    "        Type: 'text'\n",
    "        Sub Type: 'general'\n",
    "      -\n",
    "        Name: 'bldg_contract_town'\n",
    "        Title: 'Town'\n",
    "        Type: 'text'\n",
    "        Sub Type: 'general'\n",
    "        Description:\n",
    "          - 'Legend:'\n",
    "          - 'AMK - ANG MO KIO'\n",
    "          - 'BB - BUKIT BATOK'\n",
    "          - 'BD - BEDOK'\n",
    "          - 'BH - BISHAN'\n",
    "          - 'BM - BUKIT MERAH'\n",
    "          - 'BP - BUKIT PANJANG'\n",
    "          - 'BT - BUKIT TIMAH'\n",
    "          - 'CCK - CHOA CHU KANG'\n",
    "          - 'CL - CLEMENTI'\n",
    "          - 'CT - CENTRAL AREA'\n",
    "          - 'GL - GEYLANG'\n",
    "          - 'HG - HOUGANG'\n",
    "          - 'JE - JURONG EAST'\n",
    "          - 'JW - JURONG WEST'\n",
    "          - 'KWN - KALLANG/WHAMPOA'\n",
    "          - 'MP - MARINE PARADE'\n",
    "          - 'PG - PUNGGOL'\n",
    "          - 'PRC - PASIR RIS'\n",
    "          - 'QT - QUEENSTOWN'\n",
    "          - 'SB - SEMBAWANG'\n",
    "          - 'SGN - SERANGOON'\n",
    "          - 'SK - SENGKANG'\n",
    "          - 'TAP - TAMPINES'\n",
    "          - 'TG - TENGAH'\n",
    "          - 'TP - TOA PAYOH'\n",
    "          - 'WL - WOODLANDS'\n",
    "          - 'YS - YISHUN'\n",
    "      -\n",
    "        Name: 'total_dwelling_units'\n",
    "        Title: 'Total dwelling units'\n",
    "        Type: 'numeric'\n",
    "        Sub Type: 'general'\n",
    "        Unit Of Measure: 'No. of units'\n",
    "      -\n",
    "        Name: '1room_sold'\n",
    "        Title: 'Number of 1-room sold flats'\n",
    "        Type: 'numeric'\n",
    "        Sub Type: 'general'\n",
    "        Unit Of Measure: 'No. of units'\n",
    "      -\n",
    "        Name: '2room_sold'\n",
    "        Title: 'Number of 2-room sold flats'\n",
    "        Type: 'numeric'\n",
    "        Sub Type: 'general'\n",
    "        Unit Of Measure: 'No. of units'\n",
    "      -\n",
    "        Name: '3room_sold'\n",
    "        Title: 'Number of 3-room sold flats'\n",
    "        Type: 'numeric'\n",
    "        Sub Type: 'general'\n",
    "        Unit Of Measure: 'No. of units'\n",
    "      -\n",
    "        Name: '4room_sold'\n",
    "        Title: 'Number of 4-room sold flats'\n",
    "        Type: 'numeric'\n",
    "        Sub Type: 'general'\n",
    "        Unit Of Measure: 'No. of units'\n",
    "      -\n",
    "        Name: '5room_sold'\n",
    "        Title: 'Number of 5-room sold flats'\n",
    "        Type: 'numeric'\n",
    "        Sub Type: 'general'\n",
    "        Unit Of Measure: 'No. of units'\n",
    "      -\n",
    "        Name: 'exec_sold'\n",
    "        Title: 'Number of Executive sold flats'\n",
    "        Type: 'numeric'\n",
    "        Sub Type: 'general'\n",
    "        Unit Of Measure: 'No. of units'\n",
    "      -\n",
    "        Name: 'multigen_sold'\n",
    "        Title: 'Number of Multi-generation sold flats'\n",
    "        Type: 'numeric'\n",
    "        Sub Type: 'general'\n",
    "        Unit Of Measure: 'No. of units'\n",
    "      -\n",
    "        Name: 'studio_apartment_sold'\n",
    "        Title: 'Number of Studio apartment sold flats'\n",
    "        Type: 'numeric'\n",
    "        Sub Type: 'general'\n",
    "        Unit Of Measure: 'No. of units'\n",
    "      -\n",
    "        Name: '1room_rental'\n",
    "        Title: 'Number of 1-room rental flats'\n",
    "        Type: 'numeric'\n",
    "        Sub Type: 'general'\n",
    "        Unit Of Measure: 'No. of units'\n",
    "      -\n",
    "        Name: '2room_rental'\n",
    "        Title: 'Number of 2-room rental flats'\n",
    "        Type: 'numeric'\n",
    "        Sub Type: 'general'\n",
    "        Unit Of Measure: 'No. of units'\n",
    "      -\n",
    "        Name: '3room_rental'\n",
    "        Title: 'Number of 3-room rental flats'\n",
    "        Type: 'numeric'\n",
    "        Sub Type: 'general'\n",
    "        Unit Of Measure: 'No. of units'\n",
    "      -\n",
    "        Name: 'other_room_rental'\n",
    "        Title: 'Number of Other room rental flats'\n",
    "        Type: 'numeric'\n",
    "        Sub Type: 'general'\n",
    "        Unit Of Measure: 'No. of units'\n",
    "       -\n",
    "        Name: 'quarter'\n",
    "        Title: 'Quarter'\n",
    "        Type: 'datetime'\n",
    "        Sub Type: 'quarter'\n",
    "        Format: 'YYYY-[Q]Q'\n",
    "      -\n",
    "        Name: 'town'\n",
    "        Title: 'Town'\n",
    "        Type: 'text'\n",
    "        Sub Type: 'general'\n",
    "      -\n",
    "        Name: 'flat_type'\n",
    "        Title: 'Flat Type'\n",
    "        Type: 'text'\n",
    "        Sub Type: 'general'\n",
    "      -\n",
    "        Name: 'median_rent'\n",
    "        Title: 'Median rent'\n",
    "        Type: 'text'\n",
    "        Sub Type: 'general'\n",
    "        Description:\n",
    "          - '\"na\" : Data not available or not applicable'\n",
    "          - '\"-\" : Data is negligible or not significant'\n",
    " \n",
    "        -\n",
    "        Name: 'price'\n",
    "        Title: 'Median Resale Price'\n",
    "        Type: 'text'\n",
    "        Sub Type: 'general'\n",
    "        Description:\n",
    "          - '\"na\" : Data not available or not applicable'\n",
    "          - '\"-\" : Data is negligible or not significant'\n",
    " "
   ]
  },
  {
   "cell_type": "markdown",
   "metadata": {},
   "source": [
    "# Week 5 Draft"
   ]
  },
  {
   "cell_type": "code",
   "execution_count": 1,
   "metadata": {
    "collapsed": true
   },
   "outputs": [],
   "source": [
    "import numpy as np\n",
    "import pandas as pd"
   ]
  },
  {
   "cell_type": "code",
   "execution_count": 2,
   "metadata": {
    "collapsed": true
   },
   "outputs": [],
   "source": [
    "rent=pd.read_csv('median-rent-by-town-and-flat-type.csv')\n",
    "hdb=pd.read_csv('hdb-property-information.csv')\n",
    "resale=pd.read_csv('median-resale-prices-for-registered-applications-by-town-and-flat-type.csv')"
   ]
  },
  {
   "cell_type": "code",
   "execution_count": 3,
   "metadata": {
    "collapsed": true
   },
   "outputs": [],
   "source": [
    "hdb['age']=2019-hdb.year_completed \n",
    "hdb['address']=hdb.blk_no+' '+hdb.street\n",
    "hdb['town']=hdb.bldg_contract_town.map({'TAP':'TAMPINES','JW':'JURONG WEST','WL':'WOODLANDS',\\\n",
    "                                        'SK':'SENGKANG','YS':'YISHUN','HG':'HOUGANG',\\\n",
    "                                        'CCK':'CHOA CHU KANG','PG':'PUNGGOL','BD':'BEDOK',\\\n",
    "                                       'BM':'BUKIT MERAH','PRC':'PASIR RIS','BB':'BUKIT BATOK','AMK':'ANG MO KIO',\\\n",
    "                                       'BP':'BUKIT PANJANG','KWN':'KALLANG/WHAMPOA','TP':'TOA PAYOH',\\\n",
    "                                       'GL':'GEYLANG','SB':'SEMBAWANG','QT':'QUEENSTOWN','BH':'BISHAN',\\\n",
    "                                       'JE':'JURONG EAST','SGN':'SERANGOON','CL':'CLEMENTI',\\\n",
    "                                        'CT':'CENTRAL','MP':'MARINE PARADE','BT':'BUKIT TIMAH'})"
   ]
  },
  {
   "cell_type": "code",
   "execution_count": 4,
   "metadata": {
    "collapsed": true
   },
   "outputs": [],
   "source": [
    "hdb[['residential','commercial','market_hawker','miscellaneous','multistorey_carpark','precinct_pavilion']]=hdb[['residential','commercial','market_hawker','miscellaneous','multistorey_carpark','precinct_pavilion']].apply(lambda x:x.map({'Y':1,'N':0}))"
   ]
  },
  {
   "cell_type": "code",
   "execution_count": 5,
   "metadata": {},
   "outputs": [
    {
     "data": {
      "text/html": [
       "<div>\n",
       "<table border=\"1\" class=\"dataframe\">\n",
       "  <thead>\n",
       "    <tr style=\"text-align: right;\">\n",
       "      <th></th>\n",
       "      <th>blk_no</th>\n",
       "      <th>street</th>\n",
       "      <th>max_floor_lvl</th>\n",
       "      <th>year_completed</th>\n",
       "      <th>residential</th>\n",
       "      <th>commercial</th>\n",
       "      <th>market_hawker</th>\n",
       "      <th>miscellaneous</th>\n",
       "      <th>multistorey_carpark</th>\n",
       "      <th>precinct_pavilion</th>\n",
       "      <th>...</th>\n",
       "      <th>exec_sold</th>\n",
       "      <th>multigen_sold</th>\n",
       "      <th>studio_apartment_sold</th>\n",
       "      <th>1room_rental</th>\n",
       "      <th>2room_rental</th>\n",
       "      <th>3room_rental</th>\n",
       "      <th>other_room_rental</th>\n",
       "      <th>age</th>\n",
       "      <th>address</th>\n",
       "      <th>town</th>\n",
       "    </tr>\n",
       "  </thead>\n",
       "  <tbody>\n",
       "    <tr>\n",
       "      <th>0</th>\n",
       "      <td>1</td>\n",
       "      <td>BEACH RD</td>\n",
       "      <td>16</td>\n",
       "      <td>1970</td>\n",
       "      <td>1</td>\n",
       "      <td>1</td>\n",
       "      <td>0</td>\n",
       "      <td>0</td>\n",
       "      <td>0</td>\n",
       "      <td>0</td>\n",
       "      <td>...</td>\n",
       "      <td>0</td>\n",
       "      <td>0</td>\n",
       "      <td>0</td>\n",
       "      <td>0</td>\n",
       "      <td>0</td>\n",
       "      <td>0</td>\n",
       "      <td>0</td>\n",
       "      <td>49</td>\n",
       "      <td>1 BEACH RD</td>\n",
       "      <td>KALLANG/WHAMPOA</td>\n",
       "    </tr>\n",
       "    <tr>\n",
       "      <th>1</th>\n",
       "      <td>1</td>\n",
       "      <td>BEDOK STH AVE 1</td>\n",
       "      <td>14</td>\n",
       "      <td>1975</td>\n",
       "      <td>1</td>\n",
       "      <td>0</td>\n",
       "      <td>0</td>\n",
       "      <td>1</td>\n",
       "      <td>0</td>\n",
       "      <td>0</td>\n",
       "      <td>...</td>\n",
       "      <td>0</td>\n",
       "      <td>0</td>\n",
       "      <td>0</td>\n",
       "      <td>0</td>\n",
       "      <td>0</td>\n",
       "      <td>0</td>\n",
       "      <td>0</td>\n",
       "      <td>44</td>\n",
       "      <td>1 BEDOK STH AVE 1</td>\n",
       "      <td>BEDOK</td>\n",
       "    </tr>\n",
       "    <tr>\n",
       "      <th>2</th>\n",
       "      <td>1</td>\n",
       "      <td>CANTONMENT RD</td>\n",
       "      <td>2</td>\n",
       "      <td>2010</td>\n",
       "      <td>0</td>\n",
       "      <td>1</td>\n",
       "      <td>0</td>\n",
       "      <td>0</td>\n",
       "      <td>0</td>\n",
       "      <td>0</td>\n",
       "      <td>...</td>\n",
       "      <td>0</td>\n",
       "      <td>0</td>\n",
       "      <td>0</td>\n",
       "      <td>0</td>\n",
       "      <td>0</td>\n",
       "      <td>0</td>\n",
       "      <td>0</td>\n",
       "      <td>9</td>\n",
       "      <td>1 CANTONMENT RD</td>\n",
       "      <td>CENTRAL</td>\n",
       "    </tr>\n",
       "    <tr>\n",
       "      <th>3</th>\n",
       "      <td>1</td>\n",
       "      <td>CHAI CHEE RD</td>\n",
       "      <td>15</td>\n",
       "      <td>1982</td>\n",
       "      <td>1</td>\n",
       "      <td>0</td>\n",
       "      <td>0</td>\n",
       "      <td>0</td>\n",
       "      <td>0</td>\n",
       "      <td>0</td>\n",
       "      <td>...</td>\n",
       "      <td>0</td>\n",
       "      <td>0</td>\n",
       "      <td>0</td>\n",
       "      <td>0</td>\n",
       "      <td>0</td>\n",
       "      <td>0</td>\n",
       "      <td>0</td>\n",
       "      <td>37</td>\n",
       "      <td>1 CHAI CHEE RD</td>\n",
       "      <td>BEDOK</td>\n",
       "    </tr>\n",
       "    <tr>\n",
       "      <th>4</th>\n",
       "      <td>1</td>\n",
       "      <td>CHANGI VILLAGE RD</td>\n",
       "      <td>4</td>\n",
       "      <td>1975</td>\n",
       "      <td>1</td>\n",
       "      <td>1</td>\n",
       "      <td>0</td>\n",
       "      <td>0</td>\n",
       "      <td>0</td>\n",
       "      <td>0</td>\n",
       "      <td>...</td>\n",
       "      <td>0</td>\n",
       "      <td>0</td>\n",
       "      <td>0</td>\n",
       "      <td>0</td>\n",
       "      <td>0</td>\n",
       "      <td>0</td>\n",
       "      <td>0</td>\n",
       "      <td>44</td>\n",
       "      <td>1 CHANGI VILLAGE RD</td>\n",
       "      <td>PASIR RIS</td>\n",
       "    </tr>\n",
       "  </tbody>\n",
       "</table>\n",
       "<p>5 rows × 27 columns</p>\n",
       "</div>"
      ],
      "text/plain": [
       "  blk_no             street  max_floor_lvl  year_completed  residential  \\\n",
       "0      1           BEACH RD             16            1970            1   \n",
       "1      1    BEDOK STH AVE 1             14            1975            1   \n",
       "2      1      CANTONMENT RD              2            2010            0   \n",
       "3      1       CHAI CHEE RD             15            1982            1   \n",
       "4      1  CHANGI VILLAGE RD              4            1975            1   \n",
       "\n",
       "   commercial  market_hawker  miscellaneous  multistorey_carpark  \\\n",
       "0           1              0              0                    0   \n",
       "1           0              0              1                    0   \n",
       "2           1              0              0                    0   \n",
       "3           0              0              0                    0   \n",
       "4           1              0              0                    0   \n",
       "\n",
       "   precinct_pavilion       ...        exec_sold  multigen_sold  \\\n",
       "0                  0       ...                0              0   \n",
       "1                  0       ...                0              0   \n",
       "2                  0       ...                0              0   \n",
       "3                  0       ...                0              0   \n",
       "4                  0       ...                0              0   \n",
       "\n",
       "   studio_apartment_sold  1room_rental  2room_rental  3room_rental  \\\n",
       "0                      0             0             0             0   \n",
       "1                      0             0             0             0   \n",
       "2                      0             0             0             0   \n",
       "3                      0             0             0             0   \n",
       "4                      0             0             0             0   \n",
       "\n",
       "   other_room_rental  age              address             town  \n",
       "0                  0   49           1 BEACH RD  KALLANG/WHAMPOA  \n",
       "1                  0   44    1 BEDOK STH AVE 1            BEDOK  \n",
       "2                  0    9      1 CANTONMENT RD          CENTRAL  \n",
       "3                  0   37       1 CHAI CHEE RD            BEDOK  \n",
       "4                  0   44  1 CHANGI VILLAGE RD        PASIR RIS  \n",
       "\n",
       "[5 rows x 27 columns]"
      ]
     },
     "execution_count": 5,
     "metadata": {},
     "output_type": "execute_result"
    }
   ],
   "source": [
    "hdb.head()"
   ]
  },
  {
   "cell_type": "code",
   "execution_count": 6,
   "metadata": {
    "collapsed": true
   },
   "outputs": [],
   "source": [
    "hdb_df=hdb[['max_floor_lvl','residential','commercial','market_hawker',\n",
    "            'miscellaneous','multistorey_carpark',\n",
    "           'precinct_pavilion', 'total_dwelling_units',\n",
    "           '1room_sold', '2room_sold', '3room_sold', '4room_sold', '5room_sold',\n",
    "           'exec_sold', 'multigen_sold', 'studio_apartment_sold', '1room_rental',\n",
    "           '2room_rental', '3room_rental', 'other_room_rental', 'age', 'address',\n",
    "           'town']]"
   ]
  },
  {
   "cell_type": "code",
   "execution_count": 7,
   "metadata": {
    "collapsed": true
   },
   "outputs": [],
   "source": [
    "Q3_rent=rent[rent['quarter']=='2019-Q3']"
   ]
  },
  {
   "cell_type": "code",
   "execution_count": 8,
   "metadata": {
    "collapsed": true
   },
   "outputs": [],
   "source": [
    "Q3_rent=Q3_rent[~Q3_rent['median_rent'].isin(['na','-'])]"
   ]
  },
  {
   "cell_type": "code",
   "execution_count": 9,
   "metadata": {
    "collapsed": true
   },
   "outputs": [],
   "source": [
    "Q3_resale=resale[resale['quarter']=='2019-Q3']"
   ]
  },
  {
   "cell_type": "code",
   "execution_count": 10,
   "metadata": {},
   "outputs": [
    {
     "data": {
      "text/plain": [
       "EXEC      26\n",
       "5-ROOM    26\n",
       "3-ROOM    26\n",
       "2-ROOM    26\n",
       "4-ROOM    26\n",
       "1-ROOM    26\n",
       "Name: flat_type, dtype: int64"
      ]
     },
     "execution_count": 10,
     "metadata": {},
     "output_type": "execute_result"
    }
   ],
   "source": [
    "Q3_resale.flat_type.value_counts()"
   ]
  },
  {
   "cell_type": "code",
   "execution_count": 11,
   "metadata": {},
   "outputs": [
    {
     "name": "stderr",
     "output_type": "stream",
     "text": [
      "C:\\Users\\SQF\\Anaconda3\\lib\\site-packages\\pandas\\core\\generic.py:2773: SettingWithCopyWarning: \n",
      "A value is trying to be set on a copy of a slice from a DataFrame.\n",
      "Try using .loc[row_indexer,col_indexer] = value instead\n",
      "\n",
      "See the caveats in the documentation: http://pandas.pydata.org/pandas-docs/stable/indexing.html#indexing-view-versus-copy\n",
      "  self[name] = value\n"
     ]
    }
   ],
   "source": [
    "Q3_resale.flat_type=Q3_resale.flat_type.map({'1-ROOM':'1-RM','2-ROOM':'2-RM','3-ROOM':'3-RM','4-ROOM':'4-RM','5-ROOM':'5-RM'})"
   ]
  },
  {
   "cell_type": "code",
   "execution_count": 12,
   "metadata": {
    "collapsed": true
   },
   "outputs": [],
   "source": [
    "Q3_value=Q3_rent.merge(Q3_resale,how='left',left_on=['quarter','town','flat_type'],right_on=['quarter','town','flat_type'])"
   ]
  },
  {
   "cell_type": "code",
   "execution_count": 13,
   "metadata": {},
   "outputs": [
    {
     "data": {
      "text/html": [
       "<div>\n",
       "<table border=\"1\" class=\"dataframe\">\n",
       "  <thead>\n",
       "    <tr style=\"text-align: right;\">\n",
       "      <th></th>\n",
       "      <th>quarter</th>\n",
       "      <th>town</th>\n",
       "      <th>flat_type</th>\n",
       "      <th>median_rent</th>\n",
       "      <th>price</th>\n",
       "    </tr>\n",
       "  </thead>\n",
       "  <tbody>\n",
       "    <tr>\n",
       "      <th>0</th>\n",
       "      <td>2019-Q3</td>\n",
       "      <td>ANG MO KIO</td>\n",
       "      <td>3-RM</td>\n",
       "      <td>1700</td>\n",
       "      <td>280000</td>\n",
       "    </tr>\n",
       "    <tr>\n",
       "      <th>1</th>\n",
       "      <td>2019-Q3</td>\n",
       "      <td>ANG MO KIO</td>\n",
       "      <td>4-RM</td>\n",
       "      <td>2100</td>\n",
       "      <td>408000</td>\n",
       "    </tr>\n",
       "    <tr>\n",
       "      <th>2</th>\n",
       "      <td>2019-Q3</td>\n",
       "      <td>ANG MO KIO</td>\n",
       "      <td>5-RM</td>\n",
       "      <td>2400</td>\n",
       "      <td>597500</td>\n",
       "    </tr>\n",
       "    <tr>\n",
       "      <th>3</th>\n",
       "      <td>2019-Q3</td>\n",
       "      <td>BEDOK</td>\n",
       "      <td>3-RM</td>\n",
       "      <td>1700</td>\n",
       "      <td>280000</td>\n",
       "    </tr>\n",
       "    <tr>\n",
       "      <th>4</th>\n",
       "      <td>2019-Q3</td>\n",
       "      <td>BEDOK</td>\n",
       "      <td>4-RM</td>\n",
       "      <td>2000</td>\n",
       "      <td>400000</td>\n",
       "    </tr>\n",
       "    <tr>\n",
       "      <th>5</th>\n",
       "      <td>2019-Q3</td>\n",
       "      <td>BEDOK</td>\n",
       "      <td>5-RM</td>\n",
       "      <td>2250</td>\n",
       "      <td>575000</td>\n",
       "    </tr>\n",
       "    <tr>\n",
       "      <th>6</th>\n",
       "      <td>2019-Q3</td>\n",
       "      <td>BEDOK</td>\n",
       "      <td>EXEC</td>\n",
       "      <td>2400</td>\n",
       "      <td>NaN</td>\n",
       "    </tr>\n",
       "    <tr>\n",
       "      <th>7</th>\n",
       "      <td>2019-Q3</td>\n",
       "      <td>BISHAN</td>\n",
       "      <td>3-RM</td>\n",
       "      <td>1800</td>\n",
       "      <td>-</td>\n",
       "    </tr>\n",
       "    <tr>\n",
       "      <th>8</th>\n",
       "      <td>2019-Q3</td>\n",
       "      <td>BISHAN</td>\n",
       "      <td>4-RM</td>\n",
       "      <td>2300</td>\n",
       "      <td>561000</td>\n",
       "    </tr>\n",
       "    <tr>\n",
       "      <th>9</th>\n",
       "      <td>2019-Q3</td>\n",
       "      <td>BISHAN</td>\n",
       "      <td>5-RM</td>\n",
       "      <td>2500</td>\n",
       "      <td>750000</td>\n",
       "    </tr>\n",
       "    <tr>\n",
       "      <th>10</th>\n",
       "      <td>2019-Q3</td>\n",
       "      <td>BUKIT BATOK</td>\n",
       "      <td>3-RM</td>\n",
       "      <td>1600</td>\n",
       "      <td>250000</td>\n",
       "    </tr>\n",
       "    <tr>\n",
       "      <th>11</th>\n",
       "      <td>2019-Q3</td>\n",
       "      <td>BUKIT BATOK</td>\n",
       "      <td>4-RM</td>\n",
       "      <td>1900</td>\n",
       "      <td>359000</td>\n",
       "    </tr>\n",
       "    <tr>\n",
       "      <th>12</th>\n",
       "      <td>2019-Q3</td>\n",
       "      <td>BUKIT BATOK</td>\n",
       "      <td>5-RM</td>\n",
       "      <td>2050</td>\n",
       "      <td>525000</td>\n",
       "    </tr>\n",
       "    <tr>\n",
       "      <th>13</th>\n",
       "      <td>2019-Q3</td>\n",
       "      <td>BUKIT BATOK</td>\n",
       "      <td>EXEC</td>\n",
       "      <td>2300</td>\n",
       "      <td>NaN</td>\n",
       "    </tr>\n",
       "    <tr>\n",
       "      <th>14</th>\n",
       "      <td>2019-Q3</td>\n",
       "      <td>BUKIT MERAH</td>\n",
       "      <td>3-RM</td>\n",
       "      <td>1950</td>\n",
       "      <td>320000</td>\n",
       "    </tr>\n",
       "    <tr>\n",
       "      <th>15</th>\n",
       "      <td>2019-Q3</td>\n",
       "      <td>BUKIT MERAH</td>\n",
       "      <td>4-RM</td>\n",
       "      <td>2500</td>\n",
       "      <td>710000</td>\n",
       "    </tr>\n",
       "    <tr>\n",
       "      <th>16</th>\n",
       "      <td>2019-Q3</td>\n",
       "      <td>BUKIT MERAH</td>\n",
       "      <td>5-RM</td>\n",
       "      <td>2800</td>\n",
       "      <td>810000</td>\n",
       "    </tr>\n",
       "    <tr>\n",
       "      <th>17</th>\n",
       "      <td>2019-Q3</td>\n",
       "      <td>BUKIT PANJANG</td>\n",
       "      <td>3-RM</td>\n",
       "      <td>1500</td>\n",
       "      <td>309500</td>\n",
       "    </tr>\n",
       "    <tr>\n",
       "      <th>18</th>\n",
       "      <td>2019-Q3</td>\n",
       "      <td>BUKIT PANJANG</td>\n",
       "      <td>4-RM</td>\n",
       "      <td>1700</td>\n",
       "      <td>380000</td>\n",
       "    </tr>\n",
       "    <tr>\n",
       "      <th>19</th>\n",
       "      <td>2019-Q3</td>\n",
       "      <td>BUKIT PANJANG</td>\n",
       "      <td>5-RM</td>\n",
       "      <td>1800</td>\n",
       "      <td>450000</td>\n",
       "    </tr>\n",
       "    <tr>\n",
       "      <th>20</th>\n",
       "      <td>2019-Q3</td>\n",
       "      <td>BUKIT PANJANG</td>\n",
       "      <td>EXEC</td>\n",
       "      <td>2080</td>\n",
       "      <td>NaN</td>\n",
       "    </tr>\n",
       "    <tr>\n",
       "      <th>21</th>\n",
       "      <td>2019-Q3</td>\n",
       "      <td>CENTRAL</td>\n",
       "      <td>3-RM</td>\n",
       "      <td>2200</td>\n",
       "      <td>NaN</td>\n",
       "    </tr>\n",
       "    <tr>\n",
       "      <th>22</th>\n",
       "      <td>2019-Q3</td>\n",
       "      <td>CENTRAL</td>\n",
       "      <td>4-RM</td>\n",
       "      <td>2800</td>\n",
       "      <td>NaN</td>\n",
       "    </tr>\n",
       "    <tr>\n",
       "      <th>23</th>\n",
       "      <td>2019-Q3</td>\n",
       "      <td>CHOA CHU KANG</td>\n",
       "      <td>3-RM</td>\n",
       "      <td>1480</td>\n",
       "      <td>295000</td>\n",
       "    </tr>\n",
       "    <tr>\n",
       "      <th>24</th>\n",
       "      <td>2019-Q3</td>\n",
       "      <td>CHOA CHU KANG</td>\n",
       "      <td>4-RM</td>\n",
       "      <td>1750</td>\n",
       "      <td>338000</td>\n",
       "    </tr>\n",
       "    <tr>\n",
       "      <th>25</th>\n",
       "      <td>2019-Q3</td>\n",
       "      <td>CHOA CHU KANG</td>\n",
       "      <td>5-RM</td>\n",
       "      <td>1900</td>\n",
       "      <td>410000</td>\n",
       "    </tr>\n",
       "    <tr>\n",
       "      <th>26</th>\n",
       "      <td>2019-Q3</td>\n",
       "      <td>CHOA CHU KANG</td>\n",
       "      <td>EXEC</td>\n",
       "      <td>2030</td>\n",
       "      <td>NaN</td>\n",
       "    </tr>\n",
       "    <tr>\n",
       "      <th>27</th>\n",
       "      <td>2019-Q3</td>\n",
       "      <td>CLEMENTI</td>\n",
       "      <td>3-RM</td>\n",
       "      <td>1850</td>\n",
       "      <td>290000</td>\n",
       "    </tr>\n",
       "    <tr>\n",
       "      <th>28</th>\n",
       "      <td>2019-Q3</td>\n",
       "      <td>CLEMENTI</td>\n",
       "      <td>4-RM</td>\n",
       "      <td>2400</td>\n",
       "      <td>505000</td>\n",
       "    </tr>\n",
       "    <tr>\n",
       "      <th>29</th>\n",
       "      <td>2019-Q3</td>\n",
       "      <td>CLEMENTI</td>\n",
       "      <td>5-RM</td>\n",
       "      <td>2600</td>\n",
       "      <td>-</td>\n",
       "    </tr>\n",
       "    <tr>\n",
       "      <th>...</th>\n",
       "      <td>...</td>\n",
       "      <td>...</td>\n",
       "      <td>...</td>\n",
       "      <td>...</td>\n",
       "      <td>...</td>\n",
       "    </tr>\n",
       "    <tr>\n",
       "      <th>56</th>\n",
       "      <td>2019-Q3</td>\n",
       "      <td>PUNGGOL</td>\n",
       "      <td>5-RM</td>\n",
       "      <td>1900</td>\n",
       "      <td>480000</td>\n",
       "    </tr>\n",
       "    <tr>\n",
       "      <th>57</th>\n",
       "      <td>2019-Q3</td>\n",
       "      <td>QUEENSTOWN</td>\n",
       "      <td>2-RM</td>\n",
       "      <td>1500</td>\n",
       "      <td>-</td>\n",
       "    </tr>\n",
       "    <tr>\n",
       "      <th>58</th>\n",
       "      <td>2019-Q3</td>\n",
       "      <td>QUEENSTOWN</td>\n",
       "      <td>3-RM</td>\n",
       "      <td>1900</td>\n",
       "      <td>301500</td>\n",
       "    </tr>\n",
       "    <tr>\n",
       "      <th>59</th>\n",
       "      <td>2019-Q3</td>\n",
       "      <td>QUEENSTOWN</td>\n",
       "      <td>4-RM</td>\n",
       "      <td>2520</td>\n",
       "      <td>739000</td>\n",
       "    </tr>\n",
       "    <tr>\n",
       "      <th>60</th>\n",
       "      <td>2019-Q3</td>\n",
       "      <td>QUEENSTOWN</td>\n",
       "      <td>5-RM</td>\n",
       "      <td>2800</td>\n",
       "      <td>832500</td>\n",
       "    </tr>\n",
       "    <tr>\n",
       "      <th>61</th>\n",
       "      <td>2019-Q3</td>\n",
       "      <td>SEMBAWANG</td>\n",
       "      <td>4-RM</td>\n",
       "      <td>1800</td>\n",
       "      <td>346400</td>\n",
       "    </tr>\n",
       "    <tr>\n",
       "      <th>62</th>\n",
       "      <td>2019-Q3</td>\n",
       "      <td>SEMBAWANG</td>\n",
       "      <td>5-RM</td>\n",
       "      <td>1900</td>\n",
       "      <td>392500</td>\n",
       "    </tr>\n",
       "    <tr>\n",
       "      <th>63</th>\n",
       "      <td>2019-Q3</td>\n",
       "      <td>SEMBAWANG</td>\n",
       "      <td>EXEC</td>\n",
       "      <td>2000</td>\n",
       "      <td>NaN</td>\n",
       "    </tr>\n",
       "    <tr>\n",
       "      <th>64</th>\n",
       "      <td>2019-Q3</td>\n",
       "      <td>SENGKANG</td>\n",
       "      <td>3-RM</td>\n",
       "      <td>1650</td>\n",
       "      <td>340000</td>\n",
       "    </tr>\n",
       "    <tr>\n",
       "      <th>65</th>\n",
       "      <td>2019-Q3</td>\n",
       "      <td>SENGKANG</td>\n",
       "      <td>4-RM</td>\n",
       "      <td>1880</td>\n",
       "      <td>420000</td>\n",
       "    </tr>\n",
       "    <tr>\n",
       "      <th>66</th>\n",
       "      <td>2019-Q3</td>\n",
       "      <td>SENGKANG</td>\n",
       "      <td>5-RM</td>\n",
       "      <td>1900</td>\n",
       "      <td>472000</td>\n",
       "    </tr>\n",
       "    <tr>\n",
       "      <th>67</th>\n",
       "      <td>2019-Q3</td>\n",
       "      <td>SENGKANG</td>\n",
       "      <td>EXEC</td>\n",
       "      <td>2000</td>\n",
       "      <td>NaN</td>\n",
       "    </tr>\n",
       "    <tr>\n",
       "      <th>68</th>\n",
       "      <td>2019-Q3</td>\n",
       "      <td>SERANGOON</td>\n",
       "      <td>3-RM</td>\n",
       "      <td>1800</td>\n",
       "      <td>311500</td>\n",
       "    </tr>\n",
       "    <tr>\n",
       "      <th>69</th>\n",
       "      <td>2019-Q3</td>\n",
       "      <td>SERANGOON</td>\n",
       "      <td>4-RM</td>\n",
       "      <td>2190</td>\n",
       "      <td>460000</td>\n",
       "    </tr>\n",
       "    <tr>\n",
       "      <th>70</th>\n",
       "      <td>2019-Q3</td>\n",
       "      <td>SERANGOON</td>\n",
       "      <td>5-RM</td>\n",
       "      <td>2200</td>\n",
       "      <td>522000</td>\n",
       "    </tr>\n",
       "    <tr>\n",
       "      <th>71</th>\n",
       "      <td>2019-Q3</td>\n",
       "      <td>TAMPINES</td>\n",
       "      <td>3-RM</td>\n",
       "      <td>1750</td>\n",
       "      <td>330000</td>\n",
       "    </tr>\n",
       "    <tr>\n",
       "      <th>72</th>\n",
       "      <td>2019-Q3</td>\n",
       "      <td>TAMPINES</td>\n",
       "      <td>4-RM</td>\n",
       "      <td>2000</td>\n",
       "      <td>420400</td>\n",
       "    </tr>\n",
       "    <tr>\n",
       "      <th>73</th>\n",
       "      <td>2019-Q3</td>\n",
       "      <td>TAMPINES</td>\n",
       "      <td>5-RM</td>\n",
       "      <td>2200</td>\n",
       "      <td>520000</td>\n",
       "    </tr>\n",
       "    <tr>\n",
       "      <th>74</th>\n",
       "      <td>2019-Q3</td>\n",
       "      <td>TAMPINES</td>\n",
       "      <td>EXEC</td>\n",
       "      <td>2400</td>\n",
       "      <td>NaN</td>\n",
       "    </tr>\n",
       "    <tr>\n",
       "      <th>75</th>\n",
       "      <td>2019-Q3</td>\n",
       "      <td>TOA PAYOH</td>\n",
       "      <td>3-RM</td>\n",
       "      <td>1800</td>\n",
       "      <td>239500</td>\n",
       "    </tr>\n",
       "    <tr>\n",
       "      <th>76</th>\n",
       "      <td>2019-Q3</td>\n",
       "      <td>TOA PAYOH</td>\n",
       "      <td>4-RM</td>\n",
       "      <td>2300</td>\n",
       "      <td>557500</td>\n",
       "    </tr>\n",
       "    <tr>\n",
       "      <th>77</th>\n",
       "      <td>2019-Q3</td>\n",
       "      <td>TOA PAYOH</td>\n",
       "      <td>5-RM</td>\n",
       "      <td>2600</td>\n",
       "      <td>723000</td>\n",
       "    </tr>\n",
       "    <tr>\n",
       "      <th>78</th>\n",
       "      <td>2019-Q3</td>\n",
       "      <td>WOODLANDS</td>\n",
       "      <td>3-RM</td>\n",
       "      <td>1400</td>\n",
       "      <td>260000</td>\n",
       "    </tr>\n",
       "    <tr>\n",
       "      <th>79</th>\n",
       "      <td>2019-Q3</td>\n",
       "      <td>WOODLANDS</td>\n",
       "      <td>4-RM</td>\n",
       "      <td>1700</td>\n",
       "      <td>334000</td>\n",
       "    </tr>\n",
       "    <tr>\n",
       "      <th>80</th>\n",
       "      <td>2019-Q3</td>\n",
       "      <td>WOODLANDS</td>\n",
       "      <td>5-RM</td>\n",
       "      <td>1800</td>\n",
       "      <td>406000</td>\n",
       "    </tr>\n",
       "    <tr>\n",
       "      <th>81</th>\n",
       "      <td>2019-Q3</td>\n",
       "      <td>WOODLANDS</td>\n",
       "      <td>EXEC</td>\n",
       "      <td>2100</td>\n",
       "      <td>NaN</td>\n",
       "    </tr>\n",
       "    <tr>\n",
       "      <th>82</th>\n",
       "      <td>2019-Q3</td>\n",
       "      <td>YISHUN</td>\n",
       "      <td>3-RM</td>\n",
       "      <td>1600</td>\n",
       "      <td>268000</td>\n",
       "    </tr>\n",
       "    <tr>\n",
       "      <th>83</th>\n",
       "      <td>2019-Q3</td>\n",
       "      <td>YISHUN</td>\n",
       "      <td>4-RM</td>\n",
       "      <td>1800</td>\n",
       "      <td>368000</td>\n",
       "    </tr>\n",
       "    <tr>\n",
       "      <th>84</th>\n",
       "      <td>2019-Q3</td>\n",
       "      <td>YISHUN</td>\n",
       "      <td>5-RM</td>\n",
       "      <td>2000</td>\n",
       "      <td>487500</td>\n",
       "    </tr>\n",
       "    <tr>\n",
       "      <th>85</th>\n",
       "      <td>2019-Q3</td>\n",
       "      <td>YISHUN</td>\n",
       "      <td>EXEC</td>\n",
       "      <td>2000</td>\n",
       "      <td>NaN</td>\n",
       "    </tr>\n",
       "  </tbody>\n",
       "</table>\n",
       "<p>86 rows × 5 columns</p>\n",
       "</div>"
      ],
      "text/plain": [
       "    quarter           town flat_type median_rent   price\n",
       "0   2019-Q3     ANG MO KIO      3-RM        1700  280000\n",
       "1   2019-Q3     ANG MO KIO      4-RM        2100  408000\n",
       "2   2019-Q3     ANG MO KIO      5-RM        2400  597500\n",
       "3   2019-Q3          BEDOK      3-RM        1700  280000\n",
       "4   2019-Q3          BEDOK      4-RM        2000  400000\n",
       "5   2019-Q3          BEDOK      5-RM        2250  575000\n",
       "6   2019-Q3          BEDOK      EXEC        2400     NaN\n",
       "7   2019-Q3         BISHAN      3-RM        1800       -\n",
       "8   2019-Q3         BISHAN      4-RM        2300  561000\n",
       "9   2019-Q3         BISHAN      5-RM        2500  750000\n",
       "10  2019-Q3    BUKIT BATOK      3-RM        1600  250000\n",
       "11  2019-Q3    BUKIT BATOK      4-RM        1900  359000\n",
       "12  2019-Q3    BUKIT BATOK      5-RM        2050  525000\n",
       "13  2019-Q3    BUKIT BATOK      EXEC        2300     NaN\n",
       "14  2019-Q3    BUKIT MERAH      3-RM        1950  320000\n",
       "15  2019-Q3    BUKIT MERAH      4-RM        2500  710000\n",
       "16  2019-Q3    BUKIT MERAH      5-RM        2800  810000\n",
       "17  2019-Q3  BUKIT PANJANG      3-RM        1500  309500\n",
       "18  2019-Q3  BUKIT PANJANG      4-RM        1700  380000\n",
       "19  2019-Q3  BUKIT PANJANG      5-RM        1800  450000\n",
       "20  2019-Q3  BUKIT PANJANG      EXEC        2080     NaN\n",
       "21  2019-Q3        CENTRAL      3-RM        2200     NaN\n",
       "22  2019-Q3        CENTRAL      4-RM        2800     NaN\n",
       "23  2019-Q3  CHOA CHU KANG      3-RM        1480  295000\n",
       "24  2019-Q3  CHOA CHU KANG      4-RM        1750  338000\n",
       "25  2019-Q3  CHOA CHU KANG      5-RM        1900  410000\n",
       "26  2019-Q3  CHOA CHU KANG      EXEC        2030     NaN\n",
       "27  2019-Q3       CLEMENTI      3-RM        1850  290000\n",
       "28  2019-Q3       CLEMENTI      4-RM        2400  505000\n",
       "29  2019-Q3       CLEMENTI      5-RM        2600       -\n",
       "..      ...            ...       ...         ...     ...\n",
       "56  2019-Q3        PUNGGOL      5-RM        1900  480000\n",
       "57  2019-Q3     QUEENSTOWN      2-RM        1500       -\n",
       "58  2019-Q3     QUEENSTOWN      3-RM        1900  301500\n",
       "59  2019-Q3     QUEENSTOWN      4-RM        2520  739000\n",
       "60  2019-Q3     QUEENSTOWN      5-RM        2800  832500\n",
       "61  2019-Q3      SEMBAWANG      4-RM        1800  346400\n",
       "62  2019-Q3      SEMBAWANG      5-RM        1900  392500\n",
       "63  2019-Q3      SEMBAWANG      EXEC        2000     NaN\n",
       "64  2019-Q3       SENGKANG      3-RM        1650  340000\n",
       "65  2019-Q3       SENGKANG      4-RM        1880  420000\n",
       "66  2019-Q3       SENGKANG      5-RM        1900  472000\n",
       "67  2019-Q3       SENGKANG      EXEC        2000     NaN\n",
       "68  2019-Q3      SERANGOON      3-RM        1800  311500\n",
       "69  2019-Q3      SERANGOON      4-RM        2190  460000\n",
       "70  2019-Q3      SERANGOON      5-RM        2200  522000\n",
       "71  2019-Q3       TAMPINES      3-RM        1750  330000\n",
       "72  2019-Q3       TAMPINES      4-RM        2000  420400\n",
       "73  2019-Q3       TAMPINES      5-RM        2200  520000\n",
       "74  2019-Q3       TAMPINES      EXEC        2400     NaN\n",
       "75  2019-Q3      TOA PAYOH      3-RM        1800  239500\n",
       "76  2019-Q3      TOA PAYOH      4-RM        2300  557500\n",
       "77  2019-Q3      TOA PAYOH      5-RM        2600  723000\n",
       "78  2019-Q3      WOODLANDS      3-RM        1400  260000\n",
       "79  2019-Q3      WOODLANDS      4-RM        1700  334000\n",
       "80  2019-Q3      WOODLANDS      5-RM        1800  406000\n",
       "81  2019-Q3      WOODLANDS      EXEC        2100     NaN\n",
       "82  2019-Q3         YISHUN      3-RM        1600  268000\n",
       "83  2019-Q3         YISHUN      4-RM        1800  368000\n",
       "84  2019-Q3         YISHUN      5-RM        2000  487500\n",
       "85  2019-Q3         YISHUN      EXEC        2000     NaN\n",
       "\n",
       "[86 rows x 5 columns]"
      ]
     },
     "execution_count": 13,
     "metadata": {},
     "output_type": "execute_result"
    }
   ],
   "source": [
    "Q3_value"
   ]
  },
  {
   "cell_type": "code",
   "execution_count": 14,
   "metadata": {
    "collapsed": true
   },
   "outputs": [],
   "source": [
    "hdb_df=hdb_df.merge(Q3_value,how='outer',on=['town'])"
   ]
  },
  {
   "cell_type": "code",
   "execution_count": 15,
   "metadata": {
    "collapsed": true
   },
   "outputs": [],
   "source": [
    "addlist=hdb.address"
   ]
  },
  {
   "cell_type": "code",
   "execution_count": 16,
   "metadata": {
    "collapsed": true
   },
   "outputs": [],
   "source": [
    "import requests\n",
    "import json\n",
    "import re\n",
    "import time\n",
    "from tqdm import tqdm\n",
    "from random import randint "
   ]
  },
  {
   "cell_type": "raw",
   "metadata": {
    "collapsed": true
   },
   "source": [
    "# -*- coding: utf-8 -*-\n",
    "user_agents =['Mozilla/5.0 (Windows NT 10.0; Win64; x64) AppleWebKit/537.36 (KHTML, like Gecko) Chrome/74.0.3729.169 Safari/537.36',\\\n",
    "              'Mozilla/5.0 (Windows NT 10.0; Win64; x64) AppleWebKit/537.36 (KHTML, like Gecko) Chrome/74.0.3729.157 Safari/537.36',\\\n",
    "             'Mozilla/5.0 (Windows NT 10.0; Win64; x64) AppleWebKit/537.36 (KHTML, like Gecko) Chrome/64.0.3282.140 Safari/537.36 Edge/18.17763',\\\n",
    "             'Mozilla/5.0 (Windows NT 10.0; Win64; x64) AppleWebKit/537.36 (KHTML, like Gecko) Chrome/58.0.3029.110 Safari/537.36 Edge/16.16299',\\\n",
    "             'Mozilla/5.0 (Macintosh; Intel Mac OS X 10_10_5) AppleWebKit/603.3.8 (KHTML, like Gecko) Version/10.1.2 Safari/603.3.8',\\\n",
    "             'Mozilla/5.0 (Macintosh; Intel Mac OS X 10_11_6) AppleWebKit/601.7.8 (KHTML, like Gecko)',\\\n",
    "             'Mozilla/5.0 (Macintosh; Intel Mac OS X 10_11_6) AppleWebKit/605.1.15 (KHTML, like Gecko) Version/11.1.2 Safari/605.1.15',\\\n",
    "             'Mozilla/5.0 (Macintosh; Intel Mac OS X 10_10_5) AppleWebKit/600.8.9 (KHTML, like Gecko)',\\\n",
    "             'Mozilla/5.0 (Macintosh; Intel Mac OS X 10_6_8) AppleWebKit/537.36 (KHTML, like Gecko) Chrome/49.0.2623.112 Safari/537.36',\\\n",
    "             'Mozilla/5.0 (X11; Ubuntu; Linux x86_64; rv:15.0) Gecko/20100101 Firefox/15.0.1']\n",
    "\n",
    "#get agents from: https://developers.whatismybrowser.com/"
   ]
  },
  {
   "cell_type": "raw",
   "metadata": {
    "scrolled": true
   },
   "source": [
    "LAT=[]\n",
    "LON=[]\n",
    "Address=[]\n",
    "for i in tqdm(range(len(addlist))):\n",
    "    \n",
    "    try:\n",
    "        index = randint(0, 9)\n",
    "        user_agent = user_agents[index]\n",
    "        headers = {'User-Agent': user_agent}\n",
    "        response=requests.get('http://developers.onemap.sg/commonapi/search?searchVal={0}&returnGeom=Y&getAddrDetails=N&pageNum={1}'\\\n",
    "                          .format(addlist[i], 1),headers=headers).json()\n",
    "        Address.append(addlist[i])\n",
    "        LAT.append(response['results'][0]['LATITUDE'])\n",
    "        LON.append(response['results'][0]['LONGITUDE'])\n",
    "        \n",
    "    except (RuntimeError, TypeError, NameError,IndexError):\n",
    "        Address.append(addlist[i])\n",
    "        LAT.append(None)\n",
    "        LON.append(None)\n",
    "        \n",
    "    time.sleep(0.5)"
   ]
  },
  {
   "cell_type": "raw",
   "metadata": {},
   "source": [
    "Coordinate=pd.DataFrame(list(zip(Address,LAT,LON)),columns=['address','Latitude','Longitude'])"
   ]
  },
  {
   "cell_type": "raw",
   "metadata": {
    "collapsed": true
   },
   "source": [
    "Coordinate.to_csv('Coordinate.csv')"
   ]
  },
  {
   "cell_type": "code",
   "execution_count": 37,
   "metadata": {},
   "outputs": [],
   "source": [
    "Coordinate=pd.read_csv('Coordinate.csv')"
   ]
  },
  {
   "cell_type": "code",
   "execution_count": 38,
   "metadata": {},
   "outputs": [],
   "source": [
    "Coordinate=Coordinate.drop(['Unnamed: 0'],axis=1)"
   ]
  },
  {
   "cell_type": "code",
   "execution_count": 60,
   "metadata": {},
   "outputs": [
    {
     "data": {
      "text/plain": [
       "Address      False\n",
       "Latitude      True\n",
       "Longitude     True\n",
       "dtype: bool"
      ]
     },
     "execution_count": 60,
     "metadata": {},
     "output_type": "execute_result"
    }
   ],
   "source": [
    "Coordinate.isnull().any()"
   ]
  },
  {
   "cell_type": "code",
   "execution_count": 56,
   "metadata": {},
   "outputs": [],
   "source": [
    "hdb_data=hdb_df.merge(Coordinate,how='inner',left_on='address',right_on='Address')"
   ]
  },
  {
   "cell_type": "code",
   "execution_count": 57,
   "metadata": {},
   "outputs": [
    {
     "data": {
      "text/plain": [
       "Index(['max_floor_lvl', 'residential', 'commercial', 'market_hawker',\n",
       "       'miscellaneous', 'multistorey_carpark', 'precinct_pavilion',\n",
       "       'total_dwelling_units', '1room_sold', '2room_sold', '3room_sold',\n",
       "       '4room_sold', '5room_sold', 'exec_sold', 'multigen_sold',\n",
       "       'studio_apartment_sold', '1room_rental', '2room_rental', '3room_rental',\n",
       "       'other_room_rental', 'age', 'address', 'town', 'flat_type',\n",
       "       'median_rent', 'price', 'Address', 'Latitude', 'Longitude'],\n",
       "      dtype='object')"
      ]
     },
     "execution_count": 57,
     "metadata": {},
     "output_type": "execute_result"
    }
   ],
   "source": [
    "hdb_data.drop(['quarter'],axis=1,inplace=True)\n",
    "hdb_data.columns"
   ]
  },
  {
   "cell_type": "code",
   "execution_count": 58,
   "metadata": {},
   "outputs": [
    {
     "data": {
      "text/plain": [
       "False    43857\n",
       "Name: Address, dtype: int64"
      ]
     },
     "execution_count": 58,
     "metadata": {},
     "output_type": "execute_result"
    }
   ],
   "source": [
    "hdb_data['Address'].isnull().value_counts()"
   ]
  },
  {
   "cell_type": "code",
   "execution_count": 61,
   "metadata": {},
   "outputs": [
    {
     "data": {
      "text/plain": [
       "Index(['max_floor_lvl', 'residential', 'commercial', 'market_hawker',\n",
       "       'miscellaneous', 'multistorey_carpark', 'precinct_pavilion',\n",
       "       'total_dwelling_units', '1room_sold', '2room_sold', '3room_sold',\n",
       "       '4room_sold', '5room_sold', 'exec_sold', 'multigen_sold',\n",
       "       'studio_apartment_sold', '1room_rental', '2room_rental', '3room_rental',\n",
       "       'other_room_rental', 'age', 'address', 'town', 'flat_type',\n",
       "       'median_rent', 'price', 'Latitude', 'Longitude'],\n",
       "      dtype='object')"
      ]
     },
     "execution_count": 61,
     "metadata": {},
     "output_type": "execute_result"
    }
   ],
   "source": [
    "hdb_data.drop(['Address'],axis=1,inplace=True)\n",
    "hdb_data.columns"
   ]
  },
  {
   "cell_type": "code",
   "execution_count": 75,
   "metadata": {},
   "outputs": [
    {
     "name": "stdout",
     "output_type": "stream",
     "text": [
      "<class 'pandas.core.frame.DataFrame'>\n",
      "Int64Index: 43857 entries, 0 to 43856\n",
      "Data columns (total 28 columns):\n",
      "max_floor_lvl            43857 non-null int64\n",
      "residential              43857 non-null int64\n",
      "commercial               43857 non-null int64\n",
      "market_hawker            43857 non-null int64\n",
      "miscellaneous            43857 non-null int64\n",
      "multistorey_carpark      43857 non-null int64\n",
      "precinct_pavilion        43857 non-null int64\n",
      "total_dwelling_units     43857 non-null int64\n",
      "1room_sold               43857 non-null int64\n",
      "2room_sold               43857 non-null int64\n",
      "3room_sold               43857 non-null int64\n",
      "4room_sold               43857 non-null int64\n",
      "5room_sold               43857 non-null int64\n",
      "exec_sold                43857 non-null int64\n",
      "multigen_sold            43857 non-null int64\n",
      "studio_apartment_sold    43857 non-null int64\n",
      "1room_rental             43857 non-null int64\n",
      "2room_rental             43857 non-null int64\n",
      "3room_rental             43857 non-null int64\n",
      "other_room_rental        43857 non-null int64\n",
      "age                      43857 non-null int64\n",
      "address                  43857 non-null object\n",
      "town                     43857 non-null object\n",
      "flat_type                43811 non-null float64\n",
      "median_rent              43811 non-null float64\n",
      "price                    34554 non-null float64\n",
      "Latitude                 43021 non-null float64\n",
      "Longitude                43021 non-null float64\n",
      "dtypes: float64(5), int64(21), object(2)\n",
      "memory usage: 9.4+ MB\n"
     ]
    }
   ],
   "source": [
    "hdb_data.info()"
   ]
  },
  {
   "cell_type": "code",
   "execution_count": 67,
   "metadata": {},
   "outputs": [
    {
     "data": {
      "text/plain": [
       "4-RM    12154\n",
       "5-RM    12037\n",
       "3-RM    11288\n",
       "EXEC     7992\n",
       "2-RM      340\n",
       "Name: flat_type, dtype: int64"
      ]
     },
     "execution_count": 67,
     "metadata": {},
     "output_type": "execute_result"
    }
   ],
   "source": [
    "hdb_data['flat_type'].value_counts()"
   ]
  },
  {
   "cell_type": "code",
   "execution_count": 69,
   "metadata": {},
   "outputs": [],
   "source": [
    "hdb_data['flat_type']=hdb_data['flat_type'].map({'EXEC':1,'2-RM':2,'3-RM':3,'4-RM':4,'5-RM':5})"
   ]
  },
  {
   "cell_type": "code",
   "execution_count": 72,
   "metadata": {},
   "outputs": [],
   "source": [
    "hdb_data['median_rent']=pd.to_numeric(hdb_data['median_rent'])"
   ]
  },
  {
   "cell_type": "code",
   "execution_count": 74,
   "metadata": {},
   "outputs": [],
   "source": [
    "hdb_data['price']=pd.to_numeric(hdb_data['price'],errors='coerce')"
   ]
  },
  {
   "cell_type": "code",
   "execution_count": 76,
   "metadata": {},
   "outputs": [],
   "source": [
    "data_set=hdb_data[~(hdb_data['price'].isnull())]"
   ]
  },
  {
   "cell_type": "code",
   "execution_count": 77,
   "metadata": {
    "collapsed": true
   },
   "outputs": [],
   "source": [
    "to_explore=hdb_data[hdb_data['price'].isnull()]"
   ]
  },
  {
   "cell_type": "code",
   "execution_count": 78,
   "metadata": {},
   "outputs": [
    {
     "data": {
      "text/html": [
       "<div>\n",
       "<table border=\"1\" class=\"dataframe\">\n",
       "  <thead>\n",
       "    <tr style=\"text-align: right;\">\n",
       "      <th></th>\n",
       "      <th>max_floor_lvl</th>\n",
       "      <th>residential</th>\n",
       "      <th>commercial</th>\n",
       "      <th>market_hawker</th>\n",
       "      <th>miscellaneous</th>\n",
       "      <th>multistorey_carpark</th>\n",
       "      <th>precinct_pavilion</th>\n",
       "      <th>total_dwelling_units</th>\n",
       "      <th>1room_sold</th>\n",
       "      <th>2room_sold</th>\n",
       "      <th>...</th>\n",
       "      <th>1room_rental</th>\n",
       "      <th>2room_rental</th>\n",
       "      <th>3room_rental</th>\n",
       "      <th>other_room_rental</th>\n",
       "      <th>age</th>\n",
       "      <th>flat_type</th>\n",
       "      <th>median_rent</th>\n",
       "      <th>price</th>\n",
       "      <th>Latitude</th>\n",
       "      <th>Longitude</th>\n",
       "    </tr>\n",
       "  </thead>\n",
       "  <tbody>\n",
       "    <tr>\n",
       "      <th>count</th>\n",
       "      <td>34554.000000</td>\n",
       "      <td>34554.000000</td>\n",
       "      <td>34554.000000</td>\n",
       "      <td>34554.000000</td>\n",
       "      <td>34554.000000</td>\n",
       "      <td>34554.000000</td>\n",
       "      <td>34554.000000</td>\n",
       "      <td>34554.000000</td>\n",
       "      <td>34554.000000</td>\n",
       "      <td>34554.000000</td>\n",
       "      <td>...</td>\n",
       "      <td>34554.000000</td>\n",
       "      <td>34554.000000</td>\n",
       "      <td>34554.00000</td>\n",
       "      <td>34554.000000</td>\n",
       "      <td>34554.000000</td>\n",
       "      <td>34554.000000</td>\n",
       "      <td>34554.000000</td>\n",
       "      <td>34554.000000</td>\n",
       "      <td>33891.000000</td>\n",
       "      <td>33891.000000</td>\n",
       "    </tr>\n",
       "    <tr>\n",
       "      <th>mean</th>\n",
       "      <td>11.967240</td>\n",
       "      <td>0.822683</td>\n",
       "      <td>0.207357</td>\n",
       "      <td>0.008798</td>\n",
       "      <td>0.224055</td>\n",
       "      <td>0.081380</td>\n",
       "      <td>0.058430</td>\n",
       "      <td>88.418938</td>\n",
       "      <td>0.044279</td>\n",
       "      <td>1.962349</td>\n",
       "      <td>...</td>\n",
       "      <td>2.714707</td>\n",
       "      <td>2.507785</td>\n",
       "      <td>0.11932</td>\n",
       "      <td>0.008769</td>\n",
       "      <td>26.070035</td>\n",
       "      <td>4.023673</td>\n",
       "      <td>1953.887538</td>\n",
       "      <td>422948.671644</td>\n",
       "      <td>1.366290</td>\n",
       "      <td>103.840188</td>\n",
       "    </tr>\n",
       "    <tr>\n",
       "      <th>std</th>\n",
       "      <td>6.888659</td>\n",
       "      <td>0.381942</td>\n",
       "      <td>0.405419</td>\n",
       "      <td>0.093385</td>\n",
       "      <td>0.416965</td>\n",
       "      <td>0.273422</td>\n",
       "      <td>0.234559</td>\n",
       "      <td>66.183893</td>\n",
       "      <td>3.359969</td>\n",
       "      <td>12.343498</td>\n",
       "      <td>...</td>\n",
       "      <td>26.631856</td>\n",
       "      <td>21.581439</td>\n",
       "      <td>2.78184</td>\n",
       "      <td>0.517132</td>\n",
       "      <td>13.727770</td>\n",
       "      <td>0.808434</td>\n",
       "      <td>311.021615</td>\n",
       "      <td>136138.463521</td>\n",
       "      <td>0.042256</td>\n",
       "      <td>0.073595</td>\n",
       "    </tr>\n",
       "    <tr>\n",
       "      <th>min</th>\n",
       "      <td>1.000000</td>\n",
       "      <td>0.000000</td>\n",
       "      <td>0.000000</td>\n",
       "      <td>0.000000</td>\n",
       "      <td>0.000000</td>\n",
       "      <td>0.000000</td>\n",
       "      <td>0.000000</td>\n",
       "      <td>0.000000</td>\n",
       "      <td>0.000000</td>\n",
       "      <td>0.000000</td>\n",
       "      <td>...</td>\n",
       "      <td>0.000000</td>\n",
       "      <td>0.000000</td>\n",
       "      <td>0.00000</td>\n",
       "      <td>0.000000</td>\n",
       "      <td>0.000000</td>\n",
       "      <td>3.000000</td>\n",
       "      <td>1400.000000</td>\n",
       "      <td>239500.000000</td>\n",
       "      <td>1.270380</td>\n",
       "      <td>103.685228</td>\n",
       "    </tr>\n",
       "    <tr>\n",
       "      <th>25%</th>\n",
       "      <td>6.000000</td>\n",
       "      <td>1.000000</td>\n",
       "      <td>0.000000</td>\n",
       "      <td>0.000000</td>\n",
       "      <td>0.000000</td>\n",
       "      <td>0.000000</td>\n",
       "      <td>0.000000</td>\n",
       "      <td>39.000000</td>\n",
       "      <td>0.000000</td>\n",
       "      <td>0.000000</td>\n",
       "      <td>...</td>\n",
       "      <td>0.000000</td>\n",
       "      <td>0.000000</td>\n",
       "      <td>0.00000</td>\n",
       "      <td>0.000000</td>\n",
       "      <td>18.000000</td>\n",
       "      <td>3.000000</td>\n",
       "      <td>1750.000000</td>\n",
       "      <td>330000.000000</td>\n",
       "      <td>1.337865</td>\n",
       "      <td>103.774574</td>\n",
       "    </tr>\n",
       "    <tr>\n",
       "      <th>50%</th>\n",
       "      <td>12.000000</td>\n",
       "      <td>1.000000</td>\n",
       "      <td>0.000000</td>\n",
       "      <td>0.000000</td>\n",
       "      <td>0.000000</td>\n",
       "      <td>0.000000</td>\n",
       "      <td>0.000000</td>\n",
       "      <td>91.000000</td>\n",
       "      <td>0.000000</td>\n",
       "      <td>0.000000</td>\n",
       "      <td>...</td>\n",
       "      <td>0.000000</td>\n",
       "      <td>0.000000</td>\n",
       "      <td>0.00000</td>\n",
       "      <td>0.000000</td>\n",
       "      <td>26.000000</td>\n",
       "      <td>4.000000</td>\n",
       "      <td>1900.000000</td>\n",
       "      <td>406000.000000</td>\n",
       "      <td>1.364542</td>\n",
       "      <td>103.845414</td>\n",
       "    </tr>\n",
       "    <tr>\n",
       "      <th>75%</th>\n",
       "      <td>16.000000</td>\n",
       "      <td>1.000000</td>\n",
       "      <td>0.000000</td>\n",
       "      <td>0.000000</td>\n",
       "      <td>0.000000</td>\n",
       "      <td>0.000000</td>\n",
       "      <td>0.000000</td>\n",
       "      <td>120.000000</td>\n",
       "      <td>0.000000</td>\n",
       "      <td>0.000000</td>\n",
       "      <td>...</td>\n",
       "      <td>0.000000</td>\n",
       "      <td>0.000000</td>\n",
       "      <td>0.00000</td>\n",
       "      <td>0.000000</td>\n",
       "      <td>35.000000</td>\n",
       "      <td>5.000000</td>\n",
       "      <td>2100.000000</td>\n",
       "      <td>487500.000000</td>\n",
       "      <td>1.392941</td>\n",
       "      <td>103.899025</td>\n",
       "    </tr>\n",
       "    <tr>\n",
       "      <th>max</th>\n",
       "      <td>47.000000</td>\n",
       "      <td>1.000000</td>\n",
       "      <td>1.000000</td>\n",
       "      <td>1.000000</td>\n",
       "      <td>1.000000</td>\n",
       "      <td>1.000000</td>\n",
       "      <td>1.000000</td>\n",
       "      <td>584.000000</td>\n",
       "      <td>255.000000</td>\n",
       "      <td>225.000000</td>\n",
       "      <td>...</td>\n",
       "      <td>520.000000</td>\n",
       "      <td>452.000000</td>\n",
       "      <td>114.00000</td>\n",
       "      <td>32.000000</td>\n",
       "      <td>82.000000</td>\n",
       "      <td>5.000000</td>\n",
       "      <td>2800.000000</td>\n",
       "      <td>832500.000000</td>\n",
       "      <td>1.457071</td>\n",
       "      <td>103.988299</td>\n",
       "    </tr>\n",
       "  </tbody>\n",
       "</table>\n",
       "<p>8 rows × 26 columns</p>\n",
       "</div>"
      ],
      "text/plain": [
       "       max_floor_lvl   residential    commercial  market_hawker  \\\n",
       "count   34554.000000  34554.000000  34554.000000   34554.000000   \n",
       "mean       11.967240      0.822683      0.207357       0.008798   \n",
       "std         6.888659      0.381942      0.405419       0.093385   \n",
       "min         1.000000      0.000000      0.000000       0.000000   \n",
       "25%         6.000000      1.000000      0.000000       0.000000   \n",
       "50%        12.000000      1.000000      0.000000       0.000000   \n",
       "75%        16.000000      1.000000      0.000000       0.000000   \n",
       "max        47.000000      1.000000      1.000000       1.000000   \n",
       "\n",
       "       miscellaneous  multistorey_carpark  precinct_pavilion  \\\n",
       "count   34554.000000         34554.000000       34554.000000   \n",
       "mean        0.224055             0.081380           0.058430   \n",
       "std         0.416965             0.273422           0.234559   \n",
       "min         0.000000             0.000000           0.000000   \n",
       "25%         0.000000             0.000000           0.000000   \n",
       "50%         0.000000             0.000000           0.000000   \n",
       "75%         0.000000             0.000000           0.000000   \n",
       "max         1.000000             1.000000           1.000000   \n",
       "\n",
       "       total_dwelling_units    1room_sold    2room_sold      ...       \\\n",
       "count          34554.000000  34554.000000  34554.000000      ...        \n",
       "mean              88.418938      0.044279      1.962349      ...        \n",
       "std               66.183893      3.359969     12.343498      ...        \n",
       "min                0.000000      0.000000      0.000000      ...        \n",
       "25%               39.000000      0.000000      0.000000      ...        \n",
       "50%               91.000000      0.000000      0.000000      ...        \n",
       "75%              120.000000      0.000000      0.000000      ...        \n",
       "max              584.000000    255.000000    225.000000      ...        \n",
       "\n",
       "       1room_rental  2room_rental  3room_rental  other_room_rental  \\\n",
       "count  34554.000000  34554.000000   34554.00000       34554.000000   \n",
       "mean       2.714707      2.507785       0.11932           0.008769   \n",
       "std       26.631856     21.581439       2.78184           0.517132   \n",
       "min        0.000000      0.000000       0.00000           0.000000   \n",
       "25%        0.000000      0.000000       0.00000           0.000000   \n",
       "50%        0.000000      0.000000       0.00000           0.000000   \n",
       "75%        0.000000      0.000000       0.00000           0.000000   \n",
       "max      520.000000    452.000000     114.00000          32.000000   \n",
       "\n",
       "                age     flat_type   median_rent          price      Latitude  \\\n",
       "count  34554.000000  34554.000000  34554.000000   34554.000000  33891.000000   \n",
       "mean      26.070035      4.023673   1953.887538  422948.671644      1.366290   \n",
       "std       13.727770      0.808434    311.021615  136138.463521      0.042256   \n",
       "min        0.000000      3.000000   1400.000000  239500.000000      1.270380   \n",
       "25%       18.000000      3.000000   1750.000000  330000.000000      1.337865   \n",
       "50%       26.000000      4.000000   1900.000000  406000.000000      1.364542   \n",
       "75%       35.000000      5.000000   2100.000000  487500.000000      1.392941   \n",
       "max       82.000000      5.000000   2800.000000  832500.000000      1.457071   \n",
       "\n",
       "          Longitude  \n",
       "count  33891.000000  \n",
       "mean     103.840188  \n",
       "std        0.073595  \n",
       "min      103.685228  \n",
       "25%      103.774574  \n",
       "50%      103.845414  \n",
       "75%      103.899025  \n",
       "max      103.988299  \n",
       "\n",
       "[8 rows x 26 columns]"
      ]
     },
     "execution_count": 78,
     "metadata": {},
     "output_type": "execute_result"
    }
   ],
   "source": [
    "data_set.describe()"
   ]
  },
  {
   "cell_type": "code",
   "execution_count": 83,
   "metadata": {},
   "outputs": [],
   "source": [
    "import seaborn as sns\n",
    "import matplotlib.pyplot as plt"
   ]
  },
  {
   "cell_type": "code",
   "execution_count": 85,
   "metadata": {},
   "outputs": [],
   "source": [
    "ax = sns.heatmap(data_set.corr(), vmin=0, vmax=1)"
   ]
  },
  {
   "cell_type": "code",
   "execution_count": 86,
   "metadata": {},
   "outputs": [
    {
     "data": {
      "image/png": "[encoded data removed]",
      "text/plain": [
       "<matplotlib.figure.Figure at 0xd74ed0>"
      ]
     },
     "metadata": {},
     "output_type": "display_data"
    }
   ],
   "source": [
    "plt.show()"
   ]
  },
  {
   "cell_type": "code",
   "execution_count": 87,
   "metadata": {
    "collapsed": true
   },
   "outputs": [],
   "source": [
    "from sklearn.model_selection import train_test_split\n",
    "from sklearn.linear_model import Lasso\n",
    "from sklearn.feature_selection import SelectFromModel\n",
    "from sklearn.preprocessing import StandardScaler"
   ]
  },
  {
   "cell_type": "code",
   "execution_count": 88,
   "metadata": {},
   "outputs": [
    {
     "data": {
      "text/plain": [
       "((24187, 25), (10367, 25))"
      ]
     },
     "execution_count": 88,
     "metadata": {},
     "output_type": "execute_result"
    }
   ],
   "source": [
    "X_train, X_test, y_train, y_test = train_test_split(\n",
    "    data_set.drop(labels=['price', 'address','town'], axis=1),\n",
    "    data_set['price'],\n",
    "    test_size=0.3,\n",
    "    random_state=0)\n",
    "X_train.shape, X_test.shape"
   ]
  },
  {
   "cell_type": "code",
   "execution_count": 89,
   "metadata": {},
   "outputs": [
    {
     "data": {
      "text/plain": [
       "StandardScaler(copy=True, with_mean=True, with_std=True)"
      ]
     },
     "execution_count": 89,
     "metadata": {},
     "output_type": "execute_result"
    }
   ],
   "source": [
    "scaler = StandardScaler()\n",
    "scaler.fit(X_train.fillna(0))"
   ]
  },
  {
   "cell_type": "code",
   "execution_count": 150,
   "metadata": {},
   "outputs": [
    {
     "data": {
      "text/plain": [
       "SelectFromModel(estimator=Lasso(alpha=2000, copy_X=True, fit_intercept=True, max_iter=1000,\n",
       "   normalize=False, positive=False, precompute=False, random_state=None,\n",
       "   selection='cyclic', tol=0.0001, warm_start=False),\n",
       "        prefit=False, threshold=None)"
      ]
     },
     "execution_count": 150,
     "metadata": {},
     "output_type": "execute_result"
    }
   ],
   "source": [
    "sel_ = SelectFromModel(Lasso(alpha=2000))\n",
    "sel_.fit(scaler.transform(X_train.fillna(0)), y_train)"
   ]
  },
  {
   "cell_type": "code",
   "execution_count": 151,
   "metadata": {},
   "outputs": [
    {
     "data": {
      "text/plain": [
       "array([False, False, False, False, False, False, False, False, False,\n",
       "       False, False, False, False, False, False, False, False, False,\n",
       "       False, False,  True,  True,  True, False, False], dtype=bool)"
      ]
     },
     "execution_count": 151,
     "metadata": {},
     "output_type": "execute_result"
    }
   ],
   "source": [
    "sel_.get_support()"
   ]
  },
  {
   "cell_type": "code",
   "execution_count": 152,
   "metadata": {},
   "outputs": [
    {
     "name": "stdout",
     "output_type": "stream",
     "text": [
      "total features: 25\n",
      "selected features: 3\n",
      "features with coefficients shrank to zero: 22\n"
     ]
    }
   ],
   "source": [
    "selected_feat = X_train.columns[(sel_.get_support())]\n",
    "print('total features: {}'.format((X_train.shape[1])))\n",
    "print('selected features: {}'.format(len(selected_feat)))\n",
    "print('features with coefficients shrank to zero: {}'.format(\n",
    "      np.sum(sel_.estimator_.coef_ == 0)))"
   ]
  },
  {
   "cell_type": "code",
   "execution_count": 153,
   "metadata": {},
   "outputs": [
    {
     "data": {
      "text/plain": [
       "Index(['age', 'flat_type', 'median_rent'], dtype='object')"
      ]
     },
     "execution_count": 153,
     "metadata": {},
     "output_type": "execute_result"
    }
   ],
   "source": [
    "selected_feat"
   ]
  },
  {
   "cell_type": "code",
   "execution_count": 154,
   "metadata": {},
   "outputs": [
    {
     "data": {
      "text/plain": [
       "22"
      ]
     },
     "execution_count": 154,
     "metadata": {},
     "output_type": "execute_result"
    }
   ],
   "source": [
    "np.sum(sel_.estimator_.coef_ == 0)"
   ]
  },
  {
   "cell_type": "code",
   "execution_count": 155,
   "metadata": {},
   "outputs": [
    {
     "data": {
      "text/plain": [
       "Index(['max_floor_lvl', 'residential', 'commercial', 'market_hawker',\n",
       "       'miscellaneous', 'multistorey_carpark', 'precinct_pavilion',\n",
       "       'total_dwelling_units', '1room_sold', '2room_sold', '3room_sold',\n",
       "       '4room_sold', '5room_sold', 'exec_sold', 'multigen_sold',\n",
       "       'studio_apartment_sold', '1room_rental', '2room_rental', '3room_rental',\n",
       "       'other_room_rental', 'Latitude', 'Longitude'],\n",
       "      dtype='object')"
      ]
     },
     "execution_count": 155,
     "metadata": {},
     "output_type": "execute_result"
    }
   ],
   "source": [
    "removed_feats = X_train.columns[(sel_.estimator_.coef_ == 0).ravel().tolist()]\n",
    "removed_feats"
   ]
  },
  {
   "cell_type": "code",
   "execution_count": 156,
   "metadata": {},
   "outputs": [
    {
     "data": {
      "text/plain": [
       "((24187, 3), (10367, 3))"
      ]
     },
     "execution_count": 156,
     "metadata": {},
     "output_type": "execute_result"
    }
   ],
   "source": [
    "X_train_selected = sel_.transform(X_train.fillna(0))\n",
    "X_test_selected = sel_.transform(X_test.fillna(0))\n",
    "X_train_selected.shape, X_test_selected.shape"
   ]
  },
  {
   "cell_type": "code",
   "execution_count": 157,
   "metadata": {},
   "outputs": [
    {
     "data": {
      "text/plain": [
       "LinearRegression(copy_X=True, fit_intercept=True, n_jobs=1, normalize=False)"
      ]
     },
     "execution_count": 157,
     "metadata": {},
     "output_type": "execute_result"
    }
   ],
   "source": [
    "from sklearn.linear_model import LinearRegression \n",
    "regressor = LinearRegression()\n",
    "regressor.fit(X_train_selected, y_train)"
   ]
  },
  {
   "cell_type": "code",
   "execution_count": 160,
   "metadata": {
    "collapsed": true
   },
   "outputs": [],
   "source": [
    "yhat = regressor.predict(X_test_selected)"
   ]
  },
  {
   "cell_type": "code",
   "execution_count": 161,
   "metadata": {},
   "outputs": [
    {
     "name": "stdout",
     "output_type": "stream",
     "text": [
      "Mean absolute error: 36704.91\n",
      "Residual sum of squares (MSE): 2119192672.68\n",
      "R2-score: 0.87\n"
     ]
    }
   ],
   "source": [
    "print(\"Mean absolute error: %.2f\" % np.mean(np.absolute(yhat - y_test)))\n",
    "print(\"Residual sum of squares (MSE): %.2f\" % np.mean((yhat - y_test) ** 2))\n",
    "from sklearn.metrics import r2_score\n",
    "print(\"R2-score: %.2f\" % r2_score(yhat,y_test) )"
   ]
  },
  {
   "cell_type": "code",
   "execution_count": 164,
   "metadata": {},
   "outputs": [],
   "source": [
    "X_explore=to_explore.drop(labels=['price', 'address','town'], axis=1)\n",
    "pred=regressor.predict(sel_.transform(X_explore.fillna(0)))"
   ]
  },
  {
   "cell_type": "code",
   "execution_count": 165,
   "metadata": {},
   "outputs": [
    {
     "data": {
      "text/plain": [
       "array([ 462505.2899185 ,  466966.14688032,  477799.65664476, ...,\n",
       "        434899.13664194,  434261.87136168,  435536.4019222 ])"
      ]
     },
     "execution_count": 165,
     "metadata": {},
     "output_type": "execute_result"
    }
   ],
   "source": [
    "pred"
   ]
  },
  {
   "cell_type": "code",
   "execution_count": null,
   "metadata": {
    "collapsed": true
   },
   "outputs": [],
   "source": []
  }
 ],
 "metadata": {
  "kernelspec": {
   "display_name": "Python 3",
   "language": "python",
   "name": "python3"
  },
  "language_info": {
   "codemirror_mode": {
    "name": "ipython",
    "version": 3
   },
   "file_extension": ".py",
   "mimetype": "text/x-python",
   "name": "python",
   "nbconvert_exporter": "python",
   "pygments_lexer": "ipython3",
   "version": "3.5.3"
  }
 },
 "nbformat": 4,
 "nbformat_minor": 2
}
